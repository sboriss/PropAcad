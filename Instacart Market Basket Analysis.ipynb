{
 "cells": [
  {
   "cell_type": "markdown",
   "metadata": {
    "collapsed": true,
    "slideshow": {
     "slide_type": "slide"
    }
   },
   "source": [
    "# Instacart Market Basket Analysis"
   ]
  },
  {
   "cell_type": "markdown",
   "metadata": {
    "slideshow": {
     "slide_type": "slide"
    }
   },
   "source": [
    "- Running **Kaggle** competition\n",
    "- Who cares?\n",
    "    - Instacart, other retailers\n",
    "    - Personalised advertisement/product suggestions\n",
    "        - Kind reminders for forgotten items at the shopping lists\n",
    "        - Increase turnover/revenue\n",
    "        - Lessen time spent in shop\n",
    "    - Dynamic pricing tailored for each customer"
   ]
  },
  {
   "cell_type": "markdown",
   "metadata": {
    "slideshow": {
     "slide_type": "slide"
    }
   },
   "source": [
    "** Instacart business model **\n",
    "\n",
    "- Runs only in US\n",
    "- Online order\n",
    "- Delivery within one or two hours\n",
    "    - depends on your subscription plan\n",
    "- 24-hour delivery\n",
    "    - by personal shopper\n",
    "- Prices may differ from those in shops\n",
    "    - either way\n",
    "- 5-year old/ valued at $3.4 bln"
   ]
  },
  {
   "cell_type": "markdown",
   "metadata": {
    "slideshow": {
     "slide_type": "slide"
    }
   },
   "source": [
    "** AIM: Predict products in the last order **\n",
    "- Purchasing histories of 206209 customers\n",
    "- 3214874 orders in total\n",
    "- Order history records (prior)\n",
    "    - Multiple orders for each customer (min of 3)\n",
    "- Last order for each customer\n",
    "    - train: 131209 orders\n",
    "    - test: 75000 orders\n",
    "- About 50000 products"
   ]
  },
  {
   "cell_type": "markdown",
   "metadata": {
    "slideshow": {
     "slide_type": "slide"
    }
   },
   "source": [
    "** Data features **\n",
    "\n",
    "- Orders are chronologically arranged\n",
    "- Days_since_prior_order\n",
    "- Products_per_order\n",
    "- Add_to_cart_order\n",
    "- Order_dow (day of the week)\n",
    "- Order_hour_of_day\n",
    "- Aisle/Department\n",
    "- Reordered (60%)"
   ]
  },
  {
   "cell_type": "markdown",
   "metadata": {
    "slideshow": {
     "slide_type": "slide"
    }
   },
   "source": [
    "** Kaggle scripts **\n",
    "\n",
    "- EDA (a lot)\n",
    "- ML models (a few)\n",
    "    - XGBoost\n",
    "    - lightgbm\n",
    "    - Temporal Annotated Recurring Sequence (TARS) based prediction\n",
    "        - code withdrawn from Github\n",
    "- Benchmark models"
   ]
  },
  {
   "cell_type": "markdown",
   "metadata": {
    "slideshow": {
     "slide_type": "subslide"
    }
   },
   "source": [
    "** Benchmark models **\n",
    "- All products ever purchased by a customer\n",
    "    - 0.2164845 Public Leadership Board (LB) Score\n",
    "- All products ever reordered by a customer\n",
    "    - 0.2996690 Public LB Score\n",
    "- Repeat the last order\n",
    "    - 0.3276746 Public LB Score\n",
    "- Repeat Last Order (Reordered Products Only)\n",
    "    - 0.3276826 Public LB Score\n"
   ]
  },
  {
   "cell_type": "markdown",
   "metadata": {
    "slideshow": {
     "slide_type": "subslide"
    }
   },
   "source": [
    "** ML models **\n",
    "\n",
    "- XGBoost [LB 0.3808482]\n",
    "- light GBM [LB 0.3692]\n",
    "- There is an improvement over the benchmark models!!!\n",
    "- But: ** Dependent Variable **: \n",
    "    - probability of a given product ever bought by a customer will be re-ordered\n",
    "    - list of predicted products is ** always ** a subset of ordered products\n"
   ]
  },
  {
   "cell_type": "markdown",
   "metadata": {
    "slideshow": {
     "slide_type": "subslide"
    }
   },
   "source": [
    "## Top LB score - 0.4021544 ##"
   ]
  },
  {
   "cell_type": "markdown",
   "metadata": {
    "slideshow": {
     "slide_type": "subslide"
    }
   },
   "source": [
    "** MBA-models **\n",
    "\n",
    "- Enlarge list of predicted products by associative rules\n",
    "    - most common pairs of products purchased\n",
    "    - beer/nuts, beer/chips, cheese/wine\n",
    "- Optimal size of predicted basket\n",
    "    - varies by a customer\n",
    "- Sensitivity of F1-score wrt predicted basket size"
   ]
  },
  {
   "cell_type": "markdown",
   "metadata": {
    "slideshow": {
     "slide_type": "slide"
    }
   },
   "source": [
    "** Evaluation metrics: mean F1 score **\n",
    "\n",
    "- p - precision\n",
    "    - the number of correct positive results divided by the number of all positive results\n",
    "- r - recall\n",
    "    - the number of correct positive results divided by the number of positive results that should have been returned. \n"
   ]
  },
  {
   "cell_type": "markdown",
   "metadata": {
    "slideshow": {
     "slide_type": "slide"
    }
   },
   "source": [
    "- F1 score = 2 x 1 / (1/Precision + 1/Recall)\n",
    "    - harmonic mean of p and r\n",
    "    - values between 0 and 1\n",
    "- F1 score = 2 x  ( Recall  x Precision ) / (Precision + Recall)"
   ]
  }
 ],
 "metadata": {
  "celltoolbar": "Slideshow",
  "kernelspec": {
   "display_name": "Python 3",
   "language": "python",
   "name": "python3"
  },
  "language_info": {
   "codemirror_mode": {
    "name": "ipython",
    "version": 3
   },
   "file_extension": ".py",
   "mimetype": "text/x-python",
   "name": "python",
   "nbconvert_exporter": "python",
   "pygments_lexer": "ipython3",
   "version": "3.6.1"
  }
 },
 "nbformat": 4,
 "nbformat_minor": 2
}
